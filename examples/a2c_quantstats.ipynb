{
  "cells": [
    {
      "cell_type": "markdown",
      "metadata": {},
      "source": [
        "### Imports"
      ]
    },
    {
      "cell_type": "code",
      "execution_count": 1,
      "metadata": {
        "tags": []
      },
      "outputs": [],
      "source": [
        "import numpy as np\n",
        "import pandas as pd\n",
        "\n",
        "import gym\n",
        "import gym_anytrading\n",
        "import quantstats as qs\n",
        "\n",
        "import trading.bars_db as bars_db\n",
        "\n",
        "from stable_baselines3 import A2C\n",
        "from stable_baselines3.common.vec_env import DummyVecEnv\n",
        "\n",
        "import matplotlib.pyplot as plt\n",
        "plt.rcParams['font.family'] = 'DeJavu Serif'\n",
        "plt.rcParams['font.serif'] = ['Times New Roman']"
      ]
    },
    {
      "cell_type": "markdown",
      "metadata": {},
      "source": [
        "### Create Env"
      ]
    },
    {
      "cell_type": "code",
      "execution_count": null,
      "metadata": {},
      "outputs": [],
      "source": [
        "stock_df = gym_anytrading.datasets.STOCKS_GOOGL.copy()\n",
        "stock_df.head()"
      ]
    },
    {
      "cell_type": "code",
      "execution_count": null,
      "metadata": {},
      "outputs": [],
      "source": [
        "forex_df = gym_anytrading.datasets.FOREX_EURUSD_1H_ASK.copy()\n",
        "forex_df.head()"
      ]
    },
    {
      "cell_type": "code",
      "execution_count": 2,
      "metadata": {},
      "outputs": [
        {
          "data": {
            "text/html": [
              "<div>\n",
              "<style scoped>\n",
              "    .dataframe tbody tr th:only-of-type {\n",
              "        vertical-align: middle;\n",
              "    }\n",
              "\n",
              "    .dataframe tbody tr th {\n",
              "        vertical-align: top;\n",
              "    }\n",
              "\n",
              "    .dataframe thead th {\n",
              "        text-align: right;\n",
              "    }\n",
              "</style>\n",
              "<table border=\"1\" class=\"dataframe\">\n",
              "  <thead>\n",
              "    <tr style=\"text-align: right;\">\n",
              "      <th></th>\n",
              "      <th>Open</th>\n",
              "      <th>Close</th>\n",
              "      <th>High</th>\n",
              "      <th>Low</th>\n",
              "      <th>Volume</th>\n",
              "    </tr>\n",
              "    <tr>\n",
              "      <th>Time</th>\n",
              "      <th></th>\n",
              "      <th></th>\n",
              "      <th></th>\n",
              "      <th></th>\n",
              "      <th></th>\n",
              "    </tr>\n",
              "  </thead>\n",
              "  <tbody>\n",
              "    <tr>\n",
              "      <th>2016-01-01 00:00:00+00:00</th>\n",
              "      <td>430.08</td>\n",
              "      <td>431.62</td>\n",
              "      <td>432.27</td>\n",
              "      <td>429.20</td>\n",
              "      <td>1069.97</td>\n",
              "    </tr>\n",
              "    <tr>\n",
              "      <th>2016-01-01 01:00:00+00:00</th>\n",
              "      <td>431.62</td>\n",
              "      <td>430.06</td>\n",
              "      <td>431.71</td>\n",
              "      <td>429.52</td>\n",
              "      <td>859.60</td>\n",
              "    </tr>\n",
              "    <tr>\n",
              "      <th>2016-01-01 02:00:00+00:00</th>\n",
              "      <td>430.06</td>\n",
              "      <td>430.38</td>\n",
              "      <td>432.30</td>\n",
              "      <td>429.43</td>\n",
              "      <td>918.80</td>\n",
              "    </tr>\n",
              "    <tr>\n",
              "      <th>2016-01-01 03:00:00+00:00</th>\n",
              "      <td>430.38</td>\n",
              "      <td>431.20</td>\n",
              "      <td>431.73</td>\n",
              "      <td>429.85</td>\n",
              "      <td>1021.05</td>\n",
              "    </tr>\n",
              "    <tr>\n",
              "      <th>2016-01-01 04:00:00+00:00</th>\n",
              "      <td>431.20</td>\n",
              "      <td>435.53</td>\n",
              "      <td>436.56</td>\n",
              "      <td>430.64</td>\n",
              "      <td>5493.42</td>\n",
              "    </tr>\n",
              "  </tbody>\n",
              "</table>\n",
              "</div>"
            ],
            "text/plain": [
              "                             Open   Close    High     Low   Volume\n",
              "Time                                                              \n",
              "2016-01-01 00:00:00+00:00  430.08  431.62  432.27  429.20  1069.97\n",
              "2016-01-01 01:00:00+00:00  431.62  430.06  431.71  429.52   859.60\n",
              "2016-01-01 02:00:00+00:00  430.06  430.38  432.30  429.43   918.80\n",
              "2016-01-01 03:00:00+00:00  430.38  431.20  431.73  429.85  1021.05\n",
              "2016-01-01 04:00:00+00:00  431.20  435.53  436.56  430.64  5493.42"
            ]
          },
          "execution_count": 2,
          "metadata": {},
          "output_type": "execute_result"
        }
      ],
      "source": [
        "gen_df = bars_db.load_from_parquet(\"cryptocompare\", \"h1\")\n",
        "btc_usd_df = bars_db.get_df_for_symbols(gen_df, \"BTC\", \"USD\", \"h1\")\n",
        "df = bars_db.prepare_for_gym_anytrading(btc_usd_df)\n",
        "df.head()"
      ]
    },
    {
      "cell_type": "code",
      "execution_count": null,
      "metadata": {},
      "outputs": [],
      "source": [
        "window_size = 10\n",
        "start_index = window_size\n",
        "end_index = len(df)\n",
        "\n",
        "env_maker = lambda: gym.make(\n",
        "    'crypto-v0',\n",
        "    df = df,\n",
        "    window_size = window_size,\n",
        "    frame_bound = (start_index, end_index)\n",
        ")\n",
        "\n",
        "env = DummyVecEnv([env_maker])"
      ]
    },
    {
      "cell_type": "markdown",
      "metadata": {},
      "source": [
        "### Train Env"
      ]
    },
    {
      "cell_type": "code",
      "execution_count": null,
      "metadata": {
        "tags": []
      },
      "outputs": [],
      "source": [
        "policy_kwargs = dict(net_arch=[64, dict(vf=[128, 128, 128], pi=[64, 64])])\n",
        "model = A2C('MlpPolicy', env, verbose=1, policy_kwargs=policy_kwargs)\n",
        "model.learn(total_timesteps=10000)"
      ]
    },
    {
      "cell_type": "markdown",
      "metadata": {},
      "source": [
        "### Test Env"
      ]
    },
    {
      "cell_type": "code",
      "execution_count": null,
      "metadata": {
        "tags": []
      },
      "outputs": [],
      "source": [
        "env = env_maker()\n",
        "observation = env.reset()\n",
        "\n",
        "while True:\n",
        "    observation = observation[np.newaxis, ...]\n",
        "\n",
        "    # action = env.action_space.sample()\n",
        "    action, _states = model.predict(observation)\n",
        "    observation, reward, done, info = env.step(action)\n",
        "\n",
        "    # env.render()\n",
        "    if done:\n",
        "        print(\"info:\", info)\n",
        "        break"
      ]
    },
    {
      "cell_type": "markdown",
      "metadata": {},
      "source": [
        "### Plot Results"
      ]
    },
    {
      "cell_type": "code",
      "execution_count": null,
      "metadata": {},
      "outputs": [],
      "source": [
        "plt.figure(figsize=(16, 6))\n",
        "env.render_all()\n",
        "plt.show()"
      ]
    },
    {
      "cell_type": "markdown",
      "metadata": {},
      "source": [
        "### Analysis Using `quantstats`"
      ]
    },
    {
      "cell_type": "code",
      "execution_count": null,
      "metadata": {
        "tags": []
      },
      "outputs": [],
      "source": [
        "qs.extend_pandas()\n",
        "\n",
        "net_worth = pd.Series(env.history['total_profit'], index=df.index[start_index+1:end_index])\n",
        "returns = net_worth.pct_change().iloc[1:]\n",
        "\n",
        "len(env.history['total_profit'])"
      ]
    },
    {
      "cell_type": "code",
      "execution_count": null,
      "metadata": {},
      "outputs": [],
      "source": [
        "len(df.index)"
      ]
    },
    {
      "cell_type": "code",
      "execution_count": null,
      "metadata": {},
      "outputs": [],
      "source": [
        "qs.reports.full(returns, font_name=\"DejaVu Sans\")\n",
        "#qs.reports.html(returns, output='a2c_quantstats.html')"
      ]
    },
    {
      "cell_type": "code",
      "execution_count": null,
      "metadata": {},
      "outputs": [],
      "source": []
    }
  ],
  "metadata": {
    "accelerator": "GPU",
    "colab": {
      "collapsed_sections": [],
      "name": "p3.ipynb",
      "provenance": []
    },
    "kernelspec": {
      "display_name": "ai_tools_3_10_9",
      "language": "python",
      "name": "python3"
    },
    "language_info": {
      "codemirror_mode": {
        "name": "ipython",
        "version": 3
      },
      "file_extension": ".py",
      "mimetype": "text/x-python",
      "name": "python",
      "nbconvert_exporter": "python",
      "pygments_lexer": "ipython3",
      "version": "3.10.9"
    },
    "vscode": {
      "interpreter": {
        "hash": "384b05391c83744b9bdaf97b2182a55c613494c34d10dee2c25e1a9149e97a56"
      }
    }
  },
  "nbformat": 4,
  "nbformat_minor": 0
}
